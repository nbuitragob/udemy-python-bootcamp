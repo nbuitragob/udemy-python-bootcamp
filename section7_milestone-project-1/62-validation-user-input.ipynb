{
 "cells": [
  {
   "cell_type": "code",
   "execution_count": 1,
   "id": "6d6023cc",
   "metadata": {},
   "outputs": [],
   "source": [
    "def user_choice():\n",
    "    \n",
    "    choice = input(\"Please enter a number (0-10): \")\n",
    "    \n",
    "    return int(choice)"
   ]
  },
  {
   "cell_type": "code",
   "execution_count": 3,
   "id": "4b803c87",
   "metadata": {},
   "outputs": [
    {
     "name": "stdout",
     "output_type": "stream",
     "text": [
      "Please enter a number (0-10): 99\n"
     ]
    },
    {
     "data": {
      "text/plain": [
       "99"
      ]
     },
     "execution_count": 3,
     "metadata": {},
     "output_type": "execute_result"
    }
   ],
   "source": [
    "user_choice()"
   ]
  },
  {
   "cell_type": "code",
   "execution_count": 5,
   "id": "3f053920",
   "metadata": {},
   "outputs": [],
   "source": [
    "def user_choice():\n",
    "    \n",
    "    choice = input(\"Please enter a number (0-10): \")\n",
    "    \n",
    "    return choice.isdigit()"
   ]
  },
  {
   "cell_type": "code",
   "execution_count": 7,
   "id": "cf3edea3",
   "metadata": {},
   "outputs": [
    {
     "name": "stdout",
     "output_type": "stream",
     "text": [
      "Please enter a number (0-10): a\n"
     ]
    },
    {
     "data": {
      "text/plain": [
       "False"
      ]
     },
     "execution_count": 7,
     "metadata": {},
     "output_type": "execute_result"
    }
   ],
   "source": [
    "user_choice()"
   ]
  },
  {
   "cell_type": "code",
   "execution_count": 8,
   "id": "1c7da365",
   "metadata": {},
   "outputs": [],
   "source": [
    "def user_choice():\n",
    "    \n",
    "    choice = input(\"Please enter a number (0-10): \")\n",
    "    \n",
    "    if choice.isdigit:\n",
    "        return int(choice)\n",
    "    else:\n",
    "        print('Only numbers between 0-10 are allowed')\n",
    "        return -1"
   ]
  },
  {
   "cell_type": "code",
   "execution_count": 9,
   "id": "9bb707cb",
   "metadata": {},
   "outputs": [],
   "source": [
    "def user_choice():\n",
    "    choice = 'WRONG'\n",
    "    \n",
    "    while choice.isdigit() == False:\n",
    "        choice = input(\"please enter a number (0-10): \")\n",
    "    \n",
    "    return int(choice)"
   ]
  },
  {
   "cell_type": "code",
   "execution_count": 11,
   "id": "649f0dff",
   "metadata": {},
   "outputs": [
    {
     "name": "stdout",
     "output_type": "stream",
     "text": [
      "please enter a number (0-10): a\n",
      "please enter a number (0-10): sdfl\n",
      "please enter a number (0-10): asfdgkl\n",
      "please enter a number (0-10): asdf\n",
      "please enter a number (0-10): 88\n"
     ]
    },
    {
     "data": {
      "text/plain": [
       "88"
      ]
     },
     "execution_count": 11,
     "metadata": {},
     "output_type": "execute_result"
    }
   ],
   "source": [
    "user_choice()"
   ]
  },
  {
   "cell_type": "code",
   "execution_count": 12,
   "id": "e60a1760",
   "metadata": {},
   "outputs": [],
   "source": [
    "def user_choice():\n",
    "    choice = 'WRONG'\n",
    "    \n",
    "    while choice.isdigit() == False or int(choice) not in range(0,11):\n",
    "        choice = input(\"please enter a number (0-10): \")\n",
    "    \n",
    "    return int(choice)"
   ]
  },
  {
   "cell_type": "code",
   "execution_count": 13,
   "id": "502dac82",
   "metadata": {},
   "outputs": [
    {
     "name": "stdout",
     "output_type": "stream",
     "text": [
      "please enter a number (0-10): 99\n",
      "please enter a number (0-10): 99\n",
      "please enter a number (0-10): 88\n",
      "please enter a number (0-10): asdf\n",
      "please enter a number (0-10): asdf\n",
      "please enter a number (0-10): asdfh\n",
      "please enter a number (0-10): sdf\n",
      "please enter a number (0-10): 2\n"
     ]
    },
    {
     "data": {
      "text/plain": [
       "2"
      ]
     },
     "execution_count": 13,
     "metadata": {},
     "output_type": "execute_result"
    }
   ],
   "source": [
    "user_choice()"
   ]
  },
  {
   "cell_type": "code",
   "execution_count": 16,
   "id": "611413c3",
   "metadata": {},
   "outputs": [],
   "source": [
    "def user_choice():\n",
    "    choice = 'WRONG'\n",
    "    \n",
    "    while choice.isdigit() == False or int(choice) not in range(0,11):\n",
    "        choice = input(\"please enter a number (0-10): \")\n",
    "        \n",
    "        if choice.isdigit() == False:\n",
    "            print(\"Sorry that is not a digit\")\n",
    "            \n",
    "        elif int(choice) not in range(0,11):\n",
    "            print(\"Sorry the number provided is not in between 0 and 10\")\n",
    "    \n",
    "    return int(choice)"
   ]
  },
  {
   "cell_type": "code",
   "execution_count": 17,
   "id": "28eaab8e",
   "metadata": {},
   "outputs": [
    {
     "name": "stdout",
     "output_type": "stream",
     "text": [
      "please enter a number (0-10): 283\n",
      "Sorry the number provided is not in between 0 and 10\n",
      "please enter a number (0-10): 2348\n",
      "Sorry the number provided is not in between 0 and 10\n",
      "please enter a number (0-10): sdfl\n",
      "Sorry that is not a digit\n",
      "please enter a number (0-10): asdf\n",
      "Sorry that is not a digit\n",
      "please enter a number (0-10): asdf\n",
      "Sorry that is not a digit\n",
      "please enter a number (0-10): 2\n"
     ]
    },
    {
     "data": {
      "text/plain": [
       "2"
      ]
     },
     "execution_count": 17,
     "metadata": {},
     "output_type": "execute_result"
    }
   ],
   "source": [
    "user_choice()"
   ]
  },
  {
   "cell_type": "code",
   "execution_count": null,
   "id": "87998918",
   "metadata": {},
   "outputs": [],
   "source": []
  }
 ],
 "metadata": {
  "kernelspec": {
   "display_name": "Python 3 (ipykernel)",
   "language": "python",
   "name": "python3"
  },
  "language_info": {
   "codemirror_mode": {
    "name": "ipython",
    "version": 3
   },
   "file_extension": ".py",
   "mimetype": "text/x-python",
   "name": "python",
   "nbconvert_exporter": "python",
   "pygments_lexer": "ipython3",
   "version": "3.10.8"
  }
 },
 "nbformat": 4,
 "nbformat_minor": 5
}
