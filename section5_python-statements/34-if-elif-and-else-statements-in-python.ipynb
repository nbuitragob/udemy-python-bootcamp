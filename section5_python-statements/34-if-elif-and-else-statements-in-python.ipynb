{
 "cells": [
  {
   "cell_type": "code",
   "execution_count": 1,
   "id": "38dc9535",
   "metadata": {},
   "outputs": [
    {
     "name": "stdout",
     "output_type": "stream",
     "text": [
      "ITS TRUE!\n"
     ]
    }
   ],
   "source": [
    "if True:\n",
    "    print('ITS TRUE!')"
   ]
  },
  {
   "cell_type": "code",
   "execution_count": 2,
   "id": "e29c9bc3",
   "metadata": {},
   "outputs": [
    {
     "name": "stdout",
     "output_type": "stream",
     "text": [
      "FEED ME!\n"
     ]
    }
   ],
   "source": [
    "hungry = True\n",
    "\n",
    "if hungry:\n",
    "    print('FEED ME!')"
   ]
  },
  {
   "cell_type": "code",
   "execution_count": 3,
   "id": "7ced3620",
   "metadata": {},
   "outputs": [],
   "source": [
    "hungry = False\n",
    "\n",
    "if hungry:\n",
    "    print('FEED ME!')"
   ]
  },
  {
   "cell_type": "code",
   "execution_count": 4,
   "id": "4cc23fa0",
   "metadata": {},
   "outputs": [
    {
     "name": "stdout",
     "output_type": "stream",
     "text": [
      "I am not hungry\n"
     ]
    }
   ],
   "source": [
    "hungry = False\n",
    "\n",
    "if hungry:\n",
    "    print('FEED ME!')\n",
    "else:\n",
    "    print('I am not hungry')"
   ]
  },
  {
   "cell_type": "code",
   "execution_count": 5,
   "id": "18b8abfc",
   "metadata": {},
   "outputs": [
    {
     "name": "stdout",
     "output_type": "stream",
     "text": [
      "I do not know much.\n"
     ]
    }
   ],
   "source": [
    "loc = 'Bank'\n",
    "\n",
    "if loc == 'Auto Shop':\n",
    "    print(\"Cars are cool!\")\n",
    "else:\n",
    "    print(\"I do not know much.\")"
   ]
  },
  {
   "cell_type": "code",
   "execution_count": 6,
   "id": "9ad51650",
   "metadata": {},
   "outputs": [
    {
     "name": "stdout",
     "output_type": "stream",
     "text": [
      "Money is cool!\n"
     ]
    }
   ],
   "source": [
    "loc = 'Bank'\n",
    "\n",
    "if loc == 'Auto Shop':\n",
    "    print(\"Cars are cool!\")\n",
    "elif loc == 'Bank':\n",
    "    print(\"Money is cool!\")\n",
    "else:\n",
    "    print(\"I do not know much.\")"
   ]
  },
  {
   "cell_type": "code",
   "execution_count": 7,
   "id": "485e6c88",
   "metadata": {},
   "outputs": [
    {
     "name": "stdout",
     "output_type": "stream",
     "text": [
      "Cars are cool!\n"
     ]
    }
   ],
   "source": [
    "loc = 'Auto Shop'\n",
    "\n",
    "if loc == 'Auto Shop':\n",
    "    print(\"Cars are cool!\")\n",
    "elif loc == 'Bank':\n",
    "    print(\"Money is cool!\")\n",
    "elif loc == 'Store':\n",
    "    print(\"Welcome to the store!\")\n",
    "else:\n",
    "    print(\"I do not know much.\")"
   ]
  },
  {
   "cell_type": "code",
   "execution_count": 8,
   "id": "fb75570c",
   "metadata": {},
   "outputs": [
    {
     "name": "stdout",
     "output_type": "stream",
     "text": [
      "I do not know much.\n"
     ]
    }
   ],
   "source": [
    "loc = 'Game'\n",
    "\n",
    "if loc == 'Auto Shop':\n",
    "    print(\"Cars are cool!\")\n",
    "elif loc == 'Bank':\n",
    "    print(\"Money is cool!\")\n",
    "elif loc == 'Store':\n",
    "    print(\"Welcome to the store!\")\n",
    "else:\n",
    "    print(\"I do not know much.\")"
   ]
  },
  {
   "cell_type": "code",
   "execution_count": null,
   "id": "7e75e214",
   "metadata": {},
   "outputs": [],
   "source": [
    "name = 'Sammy'\n",
    "\n",
    "if name == 'Frankie':\n",
    "    print(\"\")"
   ]
  }
 ],
 "metadata": {
  "kernelspec": {
   "display_name": "Python 3 (ipykernel)",
   "language": "python",
   "name": "python3"
  },
  "language_info": {
   "codemirror_mode": {
    "name": "ipython",
    "version": 3
   },
   "file_extension": ".py",
   "mimetype": "text/x-python",
   "name": "python",
   "nbconvert_exporter": "python",
   "pygments_lexer": "ipython3",
   "version": "3.10.8"
  }
 },
 "nbformat": 4,
 "nbformat_minor": 5
}
